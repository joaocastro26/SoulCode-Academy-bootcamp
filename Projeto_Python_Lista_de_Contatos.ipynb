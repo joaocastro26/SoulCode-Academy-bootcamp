{
  "cells": [
    {
      "cell_type": "markdown",
      "metadata": {
        "id": "view-in-github",
        "colab_type": "text"
      },
      "source": [
        "<a href=\"https://colab.research.google.com/github/joaocastro26/SoulCode-Academy-bootcamp/blob/Primeiro-Projeto/Projeto_Python_Lista_de_Contatos.ipynb\" target=\"_parent\"><img src=\"https://colab.research.google.com/assets/colab-badge.svg\" alt=\"Open In Colab\"/></a>"
      ]
    },
    {
      "cell_type": "markdown",
      "metadata": {
        "id": "Xe9QHEQqjGFt"
      },
      "source": [
        "###1. Limpar Output\n",
        "Limpa as saídas do display quando retorna ao menu principal."
      ]
    },
    {
      "cell_type": "code",
      "execution_count": null,
      "metadata": {
        "id": "G504i4UsfIgq"
      },
      "outputs": [],
      "source": [
        "from IPython.display import clear_output\n",
        "clear_output()"
      ]
    },
    {
      "cell_type": "markdown",
      "source": [
        "####2. Validador de formato de telefone\n",
        "Define a função para validar o formato do numero de telefone usando regex."
      ],
      "metadata": {
        "id": "spusolgtlrLl"
      }
    },
    {
      "cell_type": "code",
      "source": [
        "import regex as re\n",
        "def validar_telefone(numero):\n",
        "    padrao = r\"^\\(\\d{2}\\) \\d{4,5}-\\d{4}$\"\n",
        "    return bool(re.match(padrao, numero))"
      ],
      "metadata": {
        "id": "Z6IyqdnOlC4u"
      },
      "execution_count": null,
      "outputs": []
    },
    {
      "cell_type": "markdown",
      "source": [
        "###3. Adicionar contato\n",
        "Adiciona o contato ao dicionário agenda."
      ],
      "metadata": {
        "id": "tkUp3mRG7lLs"
      }
    },
    {
      "cell_type": "code",
      "execution_count": null,
      "metadata": {
        "id": "mtKOo4-7gUEv"
      },
      "outputs": [],
      "source": [
        "def adicionar_contato(agenda):\n",
        "  nome=input(\"Digite o nome completo do contato: \")\n",
        "  #numero=input(\"Digite o número de telefone do contato: \")\n",
        "  while True:\n",
        "        numero = input(\"Digite o telefone (formato: (XX) XXXXX-XXXX ou (XX) XXXX-XXXX): \")\n",
        "        if validar_telefone(numero):\n",
        "            break\n",
        "        print(\"Número inválido! Use o formato (XX) XXXXX-XXXX ou (XX) XXXX-XXXX.\")\n",
        "\n",
        "  if nome in agenda:\n",
        "    print(\"Erro, este contato já existe na agenda\")\n",
        "    return\n",
        "\n",
        "  else:\n",
        "    agenda[nome] = numero\n",
        "    print(\"Contato adicionado com sucesso.\")\n",
        "\n",
        "  while True:\n",
        "    confirmar = input(f'Deseja retornar ao menu inicial? (S)').lower().strip()\n",
        "    if confirmar == 's':\n",
        "      clear_output()\n",
        "      return False\n",
        "\n",
        "    else:\n",
        "      print(\"Entrada inválida. Digite 'S'\")\n"
      ]
    },
    {
      "cell_type": "markdown",
      "metadata": {
        "id": "ptbenM7OjLgA"
      },
      "source": [
        "###4. Buscar contato\n",
        "Busca os contatos existentes no dicionário agenda."
      ]
    },
    {
      "cell_type": "code",
      "execution_count": null,
      "metadata": {
        "id": "LdSZPD_bjNqj"
      },
      "outputs": [],
      "source": [
        "def buscar_contato(agenda):\n",
        "  resultados = []\n",
        "\n",
        "  termo = input(\"Digite o nome ou parte dele, ou número de telefone  para buscar: \")\n",
        "  for nome, numero in agenda.items():\n",
        "    if termo.lower() in nome.lower() or termo in numero:\n",
        "      resultados.append((nome, numero))\n",
        "\n",
        "  if resultados:\n",
        "    print(\"Contatos encontrados com esse termo\")\n",
        "    for nome, telefone in resultados:\n",
        "      print(f\"{nome} : {telefone}\")\n",
        "\n",
        "  else:\n",
        "    print(\"Não foram encontrados contatos\")\n",
        "\n",
        "  while True:\n",
        "    confirmar = input(f'Deseja retornar ao menu inicial? (S)').lower().strip()\n",
        "    if confirmar == 's':\n",
        "      clear_output()\n",
        "      return False\n",
        "\n",
        "    else:\n",
        "      print(\"Entrada inválida. Digite 'S'\")"
      ]
    },
    {
      "cell_type": "markdown",
      "metadata": {
        "id": "R_2jIZkMn0fr"
      },
      "source": [
        "###5. Listar contatos\n",
        "Lista todos os contatos do dicionário agenda em ordem alfabética."
      ]
    },
    {
      "cell_type": "code",
      "execution_count": null,
      "metadata": {
        "id": "MBwlBjByn5VK"
      },
      "outputs": [],
      "source": [
        "def listar_contatos(agenda):\n",
        "  contatosordenaos=sorted(agenda.items())\n",
        "\n",
        "  if contatosordenaos:\n",
        "    print(\"Lista de nomes e telefones em ordem alfabetica \")\n",
        "    for nome, numero in contatosordenaos:\n",
        "      print(f\"Nome:{nome}\\nTelefone:{numero}\")\n",
        "\n",
        "  else:\n",
        "    print(\"A agenda está vazia.\")\n",
        "\n",
        "  while True:\n",
        "    confirmar = input(f'Deseja retornar ao menu inicial? (S)').lower().strip()\n",
        "    if confirmar == 's':\n",
        "      clear_output()\n",
        "      return False\n",
        "\n",
        "    else:\n",
        "      print(\"Entrada inválida. Digite 'S'\")"
      ]
    },
    {
      "cell_type": "markdown",
      "metadata": {
        "id": "XiyomPdcrLny"
      },
      "source": [
        "##6. Editar contato\n",
        "Edita o contato desejado no dicionário agenda."
      ]
    },
    {
      "cell_type": "code",
      "execution_count": null,
      "metadata": {
        "id": "oDyDBi4JrPFO"
      },
      "outputs": [],
      "source": [
        "def editar_contato(agenda):\n",
        "    nome_original = input(\"Digite o nome do contato que deseja editar: \").strip()\n",
        "\n",
        "    if nome_original not in agenda.keys():\n",
        "        print(\"Erro: Este contato não existe na agenda.\")\n",
        "        return\n",
        "\n",
        "    while True:\n",
        "        print(f\"O que você deseja editar em {nome_original}?\")\n",
        "        print(\"1. Nome\")\n",
        "        print(\"2. Número de telefone\")\n",
        "        print(\"3. Ambos\")\n",
        "        opcao = input(\"Digite o número da opção: \").strip()\n",
        "\n",
        "        if opcao not in (\"1\", \"2\", \"3\"):\n",
        "            print(\"Opção inválida.\")\n",
        "            continue\n",
        "\n",
        "        if opcao == \"1\" or opcao == \"3\":\n",
        "            while True:\n",
        "                novo_nome = input(f\"Novo nome para {nome_original} (ou Enter para manter '{nome_original}'): \").strip()\n",
        "                if novo_nome == \"\":\n",
        "                    novo_nome = nome_original\n",
        "                    break\n",
        "                elif novo_nome in agenda and novo_nome != nome_original:\n",
        "                    print(\"Erro: Este nome já existe na agenda.\")\n",
        "                else:\n",
        "                    break\n",
        "\n",
        "        if opcao == \"2\" or opcao == \"3\":\n",
        "          numero_atual = agenda[nome_original]\n",
        "          while True:\n",
        "            novo_numero = input(f\"Digite o telefone ou repita o número atual mantê-lo (o número atual é: {numero_atual} )(formato: (XX) XXXXX-XXXX ou (XX) XXXX-XXXX): \")\n",
        "            if validar_telefone(novo_numero):\n",
        "              break\n",
        "            print(\"Número inválido! Use o formato (XX) XXXXX-XXXX ou (XX) XXXX-XXXX.\")\n",
        "\n",
        "\n",
        "        if opcao == \"1\":\n",
        "            if novo_nome != nome_original:\n",
        "                agenda[novo_nome] = agenda.pop(nome_original)\n",
        "        elif opcao == \"2\":\n",
        "            agenda[nome_original] = novo_numero\n",
        "        elif opcao == \"3\":\n",
        "            if novo_nome != nome_original:\n",
        "                agenda[novo_nome] = agenda.pop(nome_original)\n",
        "                agenda[novo_nome] = novo_numero\n",
        "            else:\n",
        "                agenda[nome_original] = novo_numero\n",
        "\n",
        "        print(\"Contato editado com sucesso.\")\n",
        "        break\n",
        "\n",
        "    while True:\n",
        "     confirmar = input(f'Deseja retornar ao menu inicial? (S)').lower().strip()\n",
        "     if confirmar == 's':\n",
        "      clear_output()\n",
        "      return False\n",
        "\n",
        "    else:\n",
        "      print(\"Entrada inválida. Digite 'S'\")"
      ]
    },
    {
      "cell_type": "markdown",
      "metadata": {
        "id": "AAYyAarXxOX3"
      },
      "source": [
        "##7. Remover contato\n",
        "Remove o contato desejado do dicionário agenda."
      ]
    },
    {
      "cell_type": "code",
      "execution_count": null,
      "metadata": {
        "id": "W3kCSEb8xSBs"
      },
      "outputs": [],
      "source": [
        "def remover_contato(agenda):\n",
        "  nome = input('Qual contato deseja remover: ')\n",
        "  if nome in  agenda:\n",
        "    confirmar = input(f'Tem certeza que deseja remover {nome} (S)').lower().strip()\n",
        "    if confirmar == 's':\n",
        "        del agenda[nome]\n",
        "        print('Contato removido!')\n",
        "    else:\n",
        "        print('Cancelado')\n",
        "  else:\n",
        "    print('Contato não encontrado!')\n",
        "\n",
        "  while True:\n",
        "    confirmar = input(f'Deseja retornar ao menu inicial? (S)').lower().strip()\n",
        "    if confirmar == 's':\n",
        "      clear_output()\n",
        "      return False\n",
        "\n",
        "    else:\n",
        "      print(\"Entrada inválida. Digite 'S'\")\n"
      ]
    },
    {
      "cell_type": "markdown",
      "metadata": {
        "id": "O5fMIB9s0dGf"
      },
      "source": [
        "##8. Menu\n",
        "Direciona o usuário para a opção desejada."
      ]
    },
    {
      "cell_type": "code",
      "execution_count": null,
      "metadata": {
        "id": "dHzxJ6jSdKBJ",
        "colab": {
          "base_uri": "https://localhost:8080/"
        },
        "outputId": "3dc68d03-3dbf-4f5f-81e1-2dd4de63be87"
      },
      "outputs": [
        {
          "output_type": "stream",
          "name": "stdout",
          "text": [
            "\n",
            "Menu:\n",
            "1. Adicionar contato\n",
            "2. Buscar contato\n",
            "3. Listar contatos\n",
            "4. Editar contato\n",
            "5. Remover contato\n",
            "9. Sair\n",
            "Escolha uma opção: 9\n",
            "Saindo do programa\n"
          ]
        }
      ],
      "source": [
        "agenda = {\n",
        "\n",
        "    'Clarice Matos da Costa':'(93) 9191-9191',\n",
        "    'Rafael Correia da Costa':'(21) 9191-9191',\n",
        "    'João Victor Pinho de Castro':'(71) 9191-9191',\n",
        "    'Cristiane Meira da Silva':'(21) 9292-9292',\n",
        "    'Hugo Felipe dos Santos Rocha':'(98)9191-9191'\n",
        "}\n",
        "\n",
        "while True:\n",
        "    print(\"\\nMenu:\")\n",
        "    print(\"1. Adicionar contato\")\n",
        "    print(\"2. Buscar contato\")\n",
        "    print(\"3. Listar contatos\")\n",
        "    print(\"4. Editar contato\")\n",
        "    print(\"5. Remover contato\")\n",
        "    print(\"9. Sair\")\n",
        "\n",
        "    opcao = input(\"Escolha uma opção: \")\n",
        "\n",
        "    match opcao:\n",
        "        case \"1\":\n",
        "          adicionar_contato(agenda)\n",
        "        case \"2\":\n",
        "          buscar_contato(agenda)\n",
        "        case \"3\":\n",
        "          listar_contatos(agenda)\n",
        "        case \"4\":\n",
        "          editar_contato(agenda)\n",
        "        case \"5\":\n",
        "          remover_contato(agenda)\n",
        "        case \"9\":\n",
        "          print(\"Saindo do programa\")\n",
        "          break\n",
        "        case _:\n",
        "          print(\"Opção inválida.\")"
      ]
    }
  ],
  "metadata": {
    "colab": {
      "provenance": [],
      "include_colab_link": true
    },
    "kernelspec": {
      "display_name": "Python 3",
      "name": "python3"
    },
    "language_info": {
      "name": "python"
    }
  },
  "nbformat": 4,
  "nbformat_minor": 0
}